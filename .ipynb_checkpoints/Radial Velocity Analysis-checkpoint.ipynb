{
 "cells": [
  {
   "cell_type": "code",
   "execution_count": 1,
   "id": "323dc669",
   "metadata": {},
   "outputs": [],
   "source": [
    "from astropy.table import Table, hstack, vstack, unique\n",
    "from astropy import units as u\n",
    "import astropy.coordinates as coord\n",
    "from collections import Counter\n",
    "import numpy as np\n",
    "from tqdm import tqdm\n",
    "import matplotlib.pyplot as plt\n",
    "from matplotlib.path import Path\n",
    "import matplotlib.cm as cm\n",
    "from matplotlib.colors import LogNorm\n",
    "import pickle\n",
    "import matplotlib\n",
    "from pm_func_edr3 import *\n",
    "from copy import copy"
   ]
  },
  {
   "cell_type": "code",
   "execution_count": 2,
   "id": "3fff8d53",
   "metadata": {},
   "outputs": [
    {
     "name": "stdout",
     "output_type": "stream",
     "text": [
      "Number of Model 2 stars is 233384\n",
      "<Table length=233384>\r\n",
      " name  dtype \r\n",
      "----- -------\r\n",
      "  Age float64\r\n",
      "  X_0 float64\r\n",
      "  Y_0 float64\r\n",
      "  Z_0 float64\r\n",
      " Vx_0 float64\r\n",
      " Vy_0 float64\r\n",
      " Vz_0 float64\r\n",
      "  X_G float64\r\n",
      "  Y_G float64\r\n",
      "  Z_G float64\r\n",
      " Vx_G float64\r\n",
      " Vy_G float64\r\n",
      " Vz_G float64\r\n",
      "   RA float64\r\n",
      "  DEC float64\r\n",
      " Dist float64\r\n",
      " PMRA float64\r\n",
      "PMDEC float64\r\n",
      "   RV float64\r\n",
      "None\n"
     ]
    }
   ],
   "source": [
    "dir = 'D:/pzivi/Research/Gurtina_Project/'\n",
    "\n",
    "num = \"2\"\n",
    "\n",
    "datasource = \"allstar_Model\" + num\n",
    "model = Table.read(dir + \"Data/\"+datasource+\".fits\")\n",
    "\n",
    "print(\"Number of Model \" + num + \" stars is \" + str(len(model)))\n",
    "\n",
    "plotc = \"tomato\"  #tomato, royalblue, violet\n",
    "#relc = \"darkred\"\n",
    "#rvc = \"forestgreen\"\n",
    "\n",
    "font = {'family' : 'Times New Roman',\n",
    "        'size'   : 20}\n",
    "matplotlib.rc('font', **font)\n",
    "\n",
    "print(model.info())\n",
    "\n"
   ]
  },
  {
   "cell_type": "code",
   "execution_count": 3,
   "id": "ad8a9ff2",
   "metadata": {},
   "outputs": [],
   "source": [
    "####\n",
    "   # Set plotting bounds for the position and proper motion plots\n",
    "####\n",
    "\n",
    "displayvals = []\n",
    "\n",
    "xmin, xmax, ymin, ymax = -5.0, 5.0, -6.0, 5.0\n",
    "\n",
    "displayvals.append(xmin)\n",
    "displayvals.append(xmax)\n",
    "displayvals.append(ymin)\n",
    "displayvals.append(ymax)\n",
    "\n",
    "pmramin, pmramax, pmdecmin, pmdecmax, rvmin, rvmax = -1.5, 3.0, -3.5, 1.5, 50.0, 250.0\n",
    "\n",
    "displayvals.append(pmramin)\n",
    "displayvals.append(pmramax)\n",
    "displayvals.append(pmdecmin)\n",
    "displayvals.append(pmdecmax)\n",
    "displayvals.append(rvmin)\n",
    "displayvals.append(rvmax)\n",
    "\n",
    "\n",
    "## Set bin widths\n",
    "\n",
    "xwidth, ywidth = 0.4, 0.4 #0.2, 0.2\n",
    "\n",
    "displayvals.append(xwidth)\n",
    "displayvals.append(ywidth)"
   ]
  },
  {
   "cell_type": "code",
   "execution_count": 4,
   "id": "2235a841",
   "metadata": {},
   "outputs": [],
   "source": [
    "#### Because this is sim data, it hasn't gone through other cuts, so I need to calculate x/y values\n",
    "\n",
    "ra0 = np.deg2rad(13.038)\n",
    "dec0 = np.deg2rad(-73.094)\n",
    "dist0 = 60.6\n",
    "\n",
    "center = np.asarray([ra0, dec0])\n",
    "\n",
    "# tempx, tempy = wcs2gaiaxy(np.deg2rad(model['RA']), np.deg2rad(model['DEC']), center)\n",
    "\n",
    "# ## Add the cartesian coordinates as new columns to the catalog\n",
    "\n",
    "# tempx.shape = (len(tempx),)\n",
    "# tempy.shape = (len(tempy),)\n",
    "\n",
    "# model.add_column(tempx, name=\"x\")\n",
    "# model.add_column(tempy, name=\"y\")"
   ]
  },
  {
   "cell_type": "code",
   "execution_count": 6,
   "id": "c8f24eb7",
   "metadata": {},
   "outputs": [
    {
     "ename": "ValueError",
     "evalue": "could not broadcast input array from shape (233384,) into shape (233384,1)",
     "output_type": "error",
     "traceback": [
      "\u001b[1;31m---------------------------------------------------------------------------\u001b[0m",
      "\u001b[1;31mValueError\u001b[0m                                Traceback (most recent call last)",
      "\u001b[1;32m~\\AppData\\Local\\Temp/ipykernel_13768/3197980469.py\u001b[0m in \u001b[0;36m<module>\u001b[1;34m\u001b[0m\n\u001b[0;32m     10\u001b[0m \u001b[1;33m\u001b[0m\u001b[0m\n\u001b[0;32m     11\u001b[0m \u001b[0mnew_vxyz\u001b[0m \u001b[1;33m=\u001b[0m \u001b[0mnp\u001b[0m\u001b[1;33m.\u001b[0m\u001b[0mzeros\u001b[0m\u001b[1;33m(\u001b[0m\u001b[1;33m(\u001b[0m\u001b[0mlen\u001b[0m\u001b[1;33m(\u001b[0m\u001b[0mmodel\u001b[0m\u001b[1;33m)\u001b[0m\u001b[1;33m,\u001b[0m \u001b[1;36m3\u001b[0m\u001b[1;33m)\u001b[0m\u001b[1;33m)\u001b[0m\u001b[1;33m\u001b[0m\u001b[1;33m\u001b[0m\u001b[0m\n\u001b[1;32m---> 12\u001b[1;33m new_vxyz[:,0], new_vxyz[:,1], new_vxyz[:,2] = wcs2xyz_vec(np.deg2rad(model['RA']), np.deg2rad(model['DEC']), rho, \\\n\u001b[0m\u001b[0;32m     13\u001b[0m                                                           \u001b[0mphi\u001b[0m\u001b[1;33m,\u001b[0m \u001b[0mmodel\u001b[0m\u001b[1;33m[\u001b[0m\u001b[1;34m'Dist'\u001b[0m\u001b[1;33m]\u001b[0m\u001b[1;33m,\u001b[0m \u001b[0mra0\u001b[0m\u001b[1;33m,\u001b[0m \u001b[0mdec0\u001b[0m\u001b[1;33m,\u001b[0m \u001b[1;33m-\u001b[0m\u001b[1;36m1.\u001b[0m\u001b[1;33m*\u001b[0m\u001b[0mmodel\u001b[0m\u001b[1;33m[\u001b[0m\u001b[1;34m'PMRA'\u001b[0m\u001b[1;33m]\u001b[0m\u001b[1;33m,\u001b[0m\u001b[0;31m \u001b[0m\u001b[0;31m\\\u001b[0m\u001b[1;33m\u001b[0m\u001b[1;33m\u001b[0m\u001b[0m\n\u001b[0;32m     14\u001b[0m                                                           model['PMDEC'], model['RV'])\n",
      "\u001b[1;32mD:\\pzivi\\Research\\Gurtina_Project\\smc_mcmc\\pm_func_edr3.py\u001b[0m in \u001b[0;36mwcs2xyz_vec\u001b[1;34m(ra, dec, rho, phi, dist, ra0, dec0, pmw, pmn, v1)\u001b[0m\n\u001b[0;32m    808\u001b[0m \u001b[1;33m\u001b[0m\u001b[0m\n\u001b[0;32m    809\u001b[0m     \u001b[0mpm\u001b[0m \u001b[1;33m=\u001b[0m \u001b[0mnp\u001b[0m\u001b[1;33m.\u001b[0m\u001b[0mzeros\u001b[0m\u001b[1;33m(\u001b[0m\u001b[1;33m(\u001b[0m\u001b[0mlen\u001b[0m\u001b[1;33m(\u001b[0m\u001b[0mra\u001b[0m\u001b[1;33m)\u001b[0m\u001b[1;33m,\u001b[0m \u001b[1;36m2\u001b[0m\u001b[1;33m,\u001b[0m \u001b[1;36m1\u001b[0m\u001b[1;33m)\u001b[0m\u001b[1;33m)\u001b[0m\u001b[1;33m\u001b[0m\u001b[1;33m\u001b[0m\u001b[0m\n\u001b[1;32m--> 810\u001b[1;33m     \u001b[0mpm\u001b[0m\u001b[1;33m[\u001b[0m\u001b[1;33m:\u001b[0m\u001b[1;33m,\u001b[0m\u001b[1;36m0\u001b[0m\u001b[1;33m]\u001b[0m \u001b[1;33m=\u001b[0m \u001b[0mpmw\u001b[0m\u001b[1;33m\u001b[0m\u001b[1;33m\u001b[0m\u001b[0m\n\u001b[0m\u001b[0;32m    811\u001b[0m     \u001b[0mpm\u001b[0m\u001b[1;33m[\u001b[0m\u001b[1;33m:\u001b[0m\u001b[1;33m,\u001b[0m\u001b[1;36m1\u001b[0m\u001b[1;33m]\u001b[0m \u001b[1;33m=\u001b[0m \u001b[0mpmn\u001b[0m\u001b[1;33m\u001b[0m\u001b[1;33m\u001b[0m\u001b[0m\n\u001b[0;32m    812\u001b[0m \u001b[1;33m\u001b[0m\u001b[0m\n",
      "\u001b[1;31mValueError\u001b[0m: could not broadcast input array from shape (233384,) into shape (233384,1)"
     ]
    }
   ],
   "source": [
    "rho, phi = wcs2ang(ra0, dec0, np.deg2rad(model['RA']), np.deg2rad(model['DEC']))\n",
    "\n",
    "newxyz = ang2xyz(rho, phi, model['Dist'], dist0, theta=0, incl=0)\n",
    "\n",
    "\n",
    "mat_pmw = np.reshape(-1.*model['PMRA'], (len(model),1))\n",
    "mat_pmn = np.reshape(model['PMDEC'], (len(model),1))\n",
    "mat_v1 = np.reshape(model['RV'], (len(model),1))\n",
    "\n",
    "\n",
    "new_vxyz = np.zeros((len(model), 3))\n",
    "new_vxyz[:,0], new_vxyz[:,1], new_vxyz[:,2] = wcs2xyz_vec(np.deg2rad(model['RA']), np.deg2rad(model['DEC']), rho, \\\n",
    "                                                          phi, model['Dist'], ra0, dec0, mat_pmw, mat_pmn, mat_v1)"
   ]
  },
  {
   "cell_type": "code",
   "execution_count": null,
   "id": "b867e109",
   "metadata": {},
   "outputs": [],
   "source": [
    "plt.clf()\n",
    "fig, ax = plt.subplots(figsize=(10,10))\n",
    "ax.scatter(newxyz[:,0], newxyz[:,1], s=8, lw=0, marker=\".\", color='black', alpha=0.5)\n",
    "\n",
    "ax.set_xlabel(r'X ($^{\\circ}$)')\n",
    "ax.set_ylabel(r'Y ($^{\\circ}$)')\n",
    "\n",
    "ax.set_xlim(xmin, xmax)\n",
    "ax.set_ylim(ymin, ymax)\n",
    "\n",
    "ax.set_aspect(\"equal\")\n",
    "ax.invert_xaxis()\n",
    "plt.tight_layout()\n",
    "plt.show()"
   ]
  },
  {
   "cell_type": "code",
   "execution_count": null,
   "id": "a58d73f5",
   "metadata": {},
   "outputs": [],
   "source": []
  },
  {
   "cell_type": "code",
   "execution_count": null,
   "id": "b28a12ad",
   "metadata": {},
   "outputs": [],
   "source": []
  }
 ],
 "metadata": {
  "kernelspec": {
   "display_name": "Python 3 (ipykernel)",
   "language": "python",
   "name": "python3"
  },
  "language_info": {
   "codemirror_mode": {
    "name": "ipython",
    "version": 3
   },
   "file_extension": ".py",
   "mimetype": "text/x-python",
   "name": "python",
   "nbconvert_exporter": "python",
   "pygments_lexer": "ipython3",
   "version": "3.9.7"
  }
 },
 "nbformat": 4,
 "nbformat_minor": 5
}
