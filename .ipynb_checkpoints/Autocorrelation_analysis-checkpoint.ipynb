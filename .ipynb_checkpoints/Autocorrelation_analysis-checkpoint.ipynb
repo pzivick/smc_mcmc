{
 "cells": [
  {
   "cell_type": "code",
   "execution_count": null,
   "id": "3370d2e3",
   "metadata": {},
   "outputs": [],
   "source": [
    "import corner\n",
    "import numpy as np\n",
    "import matplotlib.pyplot as plt\n",
    "from astropy.table import Table\n",
    "from astropy import units as u\n",
    "import matplotlib\n",
    "from pm_func_edr3 import *"
   ]
  },
  {
   "cell_type": "code",
   "execution_count": null,
   "id": "30eeebdd",
   "metadata": {},
   "outputs": [],
   "source": [
    "#display_range = []\n",
    "#for a in range(nparams):\n",
    "#    mcmc_med = np.median(mcmc_Results[:,a])\n",
    "#    mcmc_std = 0.3*np.std(mcmc_Results[:,a])\n",
    "#    display_range.append((mcmc_med - mcmc_std, mcmc_med + mcmc_std))\n",
    "    \n",
    "display_range = np.full(nparams, 0.95)\n",
    "\n",
    "#fig = corner.corner(mcmc_Results,labels=guesses['param'],quantiles=[0.16, 0.5, 0.84],\\\n",
    "#                    show_titles=True, title_kwargs={\"fontsize\": 12},figsize = (7, 7))\n",
    "\n",
    "fig = corner.corner(mcmc_Results,labels=params,show_titles=True, title_kwargs={\"fontsize\": 12},\\\n",
    "                    figsize = (7, 7))#, range=display_range)\n",
    "plt.savefig('MCMC/' + outfilecore + \"_cornerplot.png\", dpi=300)"
   ]
  }
 ],
 "metadata": {
  "kernelspec": {
   "display_name": "Python 3 (ipykernel)",
   "language": "python",
   "name": "python3"
  },
  "language_info": {
   "codemirror_mode": {
    "name": "ipython",
    "version": 3
   },
   "file_extension": ".py",
   "mimetype": "text/x-python",
   "name": "python",
   "nbconvert_exporter": "python",
   "pygments_lexer": "ipython3",
   "version": "3.9.7"
  }
 },
 "nbformat": 4,
 "nbformat_minor": 5
}
