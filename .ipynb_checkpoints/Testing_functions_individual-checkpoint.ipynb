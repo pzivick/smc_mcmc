{
 "cells": [
  {
   "cell_type": "code",
   "execution_count": 1,
   "id": "9781e975",
   "metadata": {},
   "outputs": [],
   "source": [
    "import emcee\n",
    "import corner\n",
    "import numpy as np\n",
    "import matplotlib.pyplot as plt\n",
    "from astropy.table import Table\n",
    "from astropy import units as u\n",
    "import matplotlib\n",
    "from pm_func_edr3 import *"
   ]
  },
  {
   "cell_type": "code",
   "execution_count": 2,
   "id": "208a08e5",
   "metadata": {},
   "outputs": [
    {
     "name": "stdout",
     "output_type": "stream",
     "text": [
      "Number of Model 2 stars is 233384\n",
      "<Table length=233384>\r\n",
      " name  dtype \r\n",
      "----- -------\r\n",
      "  Age float64\r\n",
      "  X_0 float64\r\n",
      "  Y_0 float64\r\n",
      "  Z_0 float64\r\n",
      " Vx_0 float64\r\n",
      " Vy_0 float64\r\n",
      " Vz_0 float64\r\n",
      "  X_G float64\r\n",
      "  Y_G float64\r\n",
      "  Z_G float64\r\n",
      " Vx_G float64\r\n",
      " Vy_G float64\r\n",
      " Vz_G float64\r\n",
      "   RA float64\r\n",
      "  DEC float64\r\n",
      " Dist float64\r\n",
      " PMRA float64\r\n",
      "PMDEC float64\r\n",
      "   RV float64\r\n",
      "None\n"
     ]
    }
   ],
   "source": [
    "num = \"2\"\n",
    "model = Table.read(\"Data/allstar_Model\"+num+\".fits\")\n",
    "\n",
    "print(\"Number of Model \" + num + \" stars is \" + str(len(model)))\n",
    "\n",
    "plotc = \"tomato\"  #tomato, royalblue, violet\n",
    "#relc = \"darkred\"\n",
    "#rvc = \"forestgreen\"\n",
    "\n",
    "font = {'family' : 'Times New Roman',\n",
    "        'size'   : 20}\n",
    "matplotlib.rc('font', **font)\n",
    "\n",
    "print(model.info())"
   ]
  },
  {
   "cell_type": "code",
   "execution_count": 3,
   "id": "41af502f",
   "metadata": {},
   "outputs": [],
   "source": [
    "#### Because this is sim data, it hasn't gone through other cuts, so I need to calculate x/y values\n",
    "\n",
    "ra0 = np.deg2rad(13.038)\n",
    "dec0 = np.deg2rad(-73.094)\n",
    "\n",
    "center = np.asarray([ra0, dec0])\n",
    "\n",
    "tempx, tempy = wcs2gaiaxy(np.deg2rad(model['RA']), np.deg2rad(model['DEC']), center)\n",
    "\n",
    "## Add the cartesian coordinates as new columns to the catalog\n",
    "\n",
    "tempx.shape = (len(tempx),)\n",
    "tempy.shape = (len(tempy),)\n",
    "\n",
    "model.add_column(tempx, name=\"x\")\n",
    "model.add_column(tempy, name=\"y\")"
   ]
  },
  {
   "cell_type": "code",
   "execution_count": 4,
   "id": "2ead1aa3",
   "metadata": {},
   "outputs": [],
   "source": [
    "####\n",
    "   # Set plotting bounds for the position and proper motion plots\n",
    "####\n",
    "\n",
    "displayvals = []\n",
    "\n",
    "xmin, xmax, ymin, ymax = -5.0, 5.0, -6.0, 5.0\n",
    "\n",
    "displayvals.append(xmin)\n",
    "displayvals.append(xmax)\n",
    "displayvals.append(ymin)\n",
    "displayvals.append(ymax)\n",
    "\n",
    "pmramin, pmramax, pmdecmin, pmdecmax, rvmin, rvmax = -1.5, 3.0, -3.5, 1.5, 50.0, 250.0\n",
    "\n",
    "displayvals.append(pmramin)\n",
    "displayvals.append(pmramax)\n",
    "displayvals.append(pmdecmin)\n",
    "displayvals.append(pmdecmax)\n",
    "displayvals.append(rvmin)\n",
    "displayvals.append(rvmax)\n",
    "\n",
    "\n",
    "## Set bin widths\n",
    "\n",
    "xwidth, ywidth = 0.4, 0.4 #0.2, 0.2\n",
    "\n",
    "displayvals.append(xwidth)\n",
    "displayvals.append(ywidth)\n",
    "\n",
    "\n",
    "##\n",
    "\n",
    "yaxis = np.asarray([[0.0, -8.0, 0.0], [0, 8.0, 0.0]])\n",
    "xaxis = np.asarray([[-8.0, 0.0, 0.0], [8.0, 0.0, 0.0]])\n",
    "\n",
    "tempcos = np.dot(yaxis[0], xaxis[0]) / (np.linalg.norm(yaxis[0])*np.linalg.norm(xaxis[0]))\n",
    "\n",
    "#print np.rad2deg(np.arccos(tempcos))\n",
    "\n",
    "axisrot = np.deg2rad(55.0)\n",
    "\n",
    "newyaxis = rot3d(yaxis[:,0], yaxis[:,1], yaxis[:,2], rot_zaxis(axisrot))\n",
    "newxaxis = rot3d(xaxis[:,0], xaxis[:,1], xaxis[:,2], rot_zaxis(axisrot))\n",
    "\n",
    "\n",
    "tempcos2 = np.dot(newyaxis[0], newxaxis[0]) / (np.linalg.norm(newyaxis[0])*np.linalg.norm(newxaxis[0]))\n",
    "\n",
    "\n",
    "## For the sake of plotting, trim the data set down to only include stars in the x/y lims\n",
    "\n",
    "#model = model[(model['x'] < xmax) & (model['x'] > xmin) & (model['y'] < ymax) & (model['y'] > ymin)]"
   ]
  },
  {
   "cell_type": "code",
   "execution_count": 12,
   "id": "1d6c6853",
   "metadata": {},
   "outputs": [
    {
     "data": {
      "image/png": "[encoded data removed]",
      "text/plain": [
       "<Figure size 432x288 with 1 Axes>"
      ]
     },
     "metadata": {
      "needs_background": "light"
     },
     "output_type": "display_data"
    },
    {
     "data": {
      "image/png": "[encoded data removed]",
      "text/plain": [
       "<Figure size 432x288 with 1 Axes>"
      ]
     },
     "metadata": {
      "needs_background": "light"
     },
     "output_type": "display_data"
    }
   ],
   "source": [
    "modelver = \"cm+tidal\"\n",
    "\n",
    "incl = 0.000001\n",
    "thet = 0.000001\n",
    "muE0 = 0.68         #Center of mass proper motion east in mas/yr\n",
    "muN0 = -1.23         #CM proper motion north\tin mas/yr\n",
    "vsys = 148.0          #CM radial velocity in km/s\n",
    "m_M = 18.91\n",
    "\n",
    "dist0 = (10**((m_M/5.0)+1)) / 1000.0      #distance in kpc to the galaxy center\n",
    "\n",
    "\n",
    "rad0 = 0.00001\n",
    "rotvel0 = 0.0\n",
    "\n",
    "phi_tid = 0.0\n",
    "theta_tid = 89.99999\n",
    "v_tid = 2.0\n",
    "\n",
    "\n",
    "\n",
    "vtran, thtran = calc_transverse(muE0, muN0, dist0)\n",
    "\n",
    "\n",
    "rho, phi = wcs2ang(ra0, dec0, model['RA'], model['DEC'])\n",
    "\n",
    "plt.clf()\n",
    "plt.hist(phi)\n",
    "plt.show()\n",
    "\n",
    "plt.clf()\n",
    "plt.hist(rho)\n",
    "plt.show()\n",
    "\n",
    "#print(np.cos(incl) / (np.cos(incl)*np.cos(rho) - np.sin(incl)*np.sin(rho)*np.sin(phi - thet)))\n",
    "\n",
    "dist = calc_dist(rho, phi, dist0, incl=incl, thet=thet)\n",
    "\n",
    "\n",
    "#print(dist)"
   ]
  },
  {
   "cell_type": "code",
   "execution_count": null,
   "id": "6387989d",
   "metadata": {
    "scrolled": false
   },
   "outputs": [],
   "source": []
  },
  {
   "cell_type": "code",
   "execution_count": null,
   "id": "84a1b81a",
   "metadata": {},
   "outputs": [],
   "source": []
  }
 ],
 "metadata": {
  "kernelspec": {
   "display_name": "Python 3 (ipykernel)",
   "language": "python",
   "name": "python3"
  },
  "language_info": {
   "codemirror_mode": {
    "name": "ipython",
    "version": 3
   },
   "file_extension": ".py",
   "mimetype": "text/x-python",
   "name": "python",
   "nbconvert_exporter": "python",
   "pygments_lexer": "ipython3",
   "version": "3.9.7"
  }
 },
 "nbformat": 4,
 "nbformat_minor": 5
}
