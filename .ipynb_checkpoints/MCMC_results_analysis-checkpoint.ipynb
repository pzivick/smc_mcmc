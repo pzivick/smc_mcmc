{
 "cells": [
  {
   "cell_type": "code",
   "execution_count": 1,
   "id": "51d21528",
   "metadata": {},
   "outputs": [],
   "source": [
    "import corner\n",
    "import numpy as np\n",
    "import matplotlib.pyplot as plt\n",
    "from astropy.table import Table\n",
    "from astropy import units as u\n",
    "import matplotlib\n",
    "from pm_func_edr3 import *"
   ]
  },
  {
   "cell_type": "code",
   "execution_count": 5,
   "id": "90d85fe9",
   "metadata": {},
   "outputs": [
    {
     "name": "stdout",
     "output_type": "stream",
     "text": [
      "Number of stars in allstar_Model2 is 233384\n"
     ]
    }
   ],
   "source": [
    "#### Load in Data\n",
    "\n",
    "dir = \"D:/pzivi/Research/Gurtina_Project/\"\n",
    "\n",
    "datasource = \"allstar_Model2\"\n",
    "data = Table.read(dir + \"Data/\"+datasource+\".fits\")\n",
    "\n",
    "perm = 'standard'\n",
    "priors, nparams, params = get_priors(perm)\n",
    "\n",
    "nwalk = 100\n",
    "nsamp = 1500\n",
    "#ver = \"_nw\" + str(nwalk) + \"_ns\" + str(nsamp)\n",
    "ver = \"\"\n",
    "\n",
    "print(\"Number of stars in \" + datasource + \" is \" + str(len(data)))\n",
    "\n",
    "outfilecore = datasource + \"_\" + perm\n",
    "\n",
    "\n",
    "samples = np.loadtxt('MCMC/' + outfilecore + ver + \"_mcmc_results.txt\")\n",
    "\n",
    "chain = np.loadtxt('MCMC/' + outfilecore + ver + \"_marginalized_density.txt\")"
   ]
  },
  {
   "cell_type": "code",
   "execution_count": null,
   "id": "7bfedc41",
   "metadata": {},
   "outputs": [],
   "source": [
    "#display_range = []\n",
    "#for a in range(nparams):\n",
    "#    mcmc_med = np.median(mcmc_Results[:,a])\n",
    "#    mcmc_std = 0.3*np.std(mcmc_Results[:,a])\n",
    "#    display_range.append((mcmc_med - mcmc_std, mcmc_med + mcmc_std))\n",
    "    \n",
    "display_range = np.full(nparams, 0.95)\n",
    "\n",
    "#fig = corner.corner(mcmc_Results,labels=guesses['param'],quantiles=[0.16, 0.5, 0.84],\\\n",
    "#                    show_titles=True, title_kwargs={\"fontsize\": 12},figsize = (7, 7))\n",
    "\n",
    "fig = corner.corner(samples, labels=params,show_titles=True, title_kwargs={\"fontsize\": 12},\\\n",
    "                    figsize = (7, 7))#, range=display_range)\n",
    "plt.savefig('MCMC/' + outfilecore + \"_cornerplot.png\", dpi=300)"
   ]
  }
 ],
 "metadata": {
  "kernelspec": {
   "display_name": "Python 3 (ipykernel)",
   "language": "python",
   "name": "python3"
  },
  "language_info": {
   "codemirror_mode": {
    "name": "ipython",
    "version": 3
   },
   "file_extension": ".py",
   "mimetype": "text/x-python",
   "name": "python",
   "nbconvert_exporter": "python",
   "pygments_lexer": "ipython3",
   "version": "3.9.7"
  }
 },
 "nbformat": 4,
 "nbformat_minor": 5
}
