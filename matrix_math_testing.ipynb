{
 "cells": [
  {
   "cell_type": "code",
   "execution_count": 1,
   "id": "c22a3114",
   "metadata": {},
   "outputs": [],
   "source": [
    "import numpy as np\n",
    "\n",
    "import matplotlib.pyplot as plt\n",
    "\n",
    "from pm_func_edr3 import *"
   ]
  },
  {
   "cell_type": "code",
   "execution_count": 2,
   "id": "9789c327",
   "metadata": {},
   "outputs": [],
   "source": [
    "num = 5\n",
    "\n",
    "# original = (np.asarray([np.random.uniform(size=num), np.random.uniform(size=num), np.random.uniform(size=num), \\\n",
    "#                        np.random.uniform(size=num), np.random.uniform(size=num), np.random.uniform(size=num)])).T\n",
    "\n",
    "original = (np.asarray([np.random.uniform(size=num), np.random.uniform(size=num), np.zeros(num), \\\n",
    "                       np.full(num, 0.5), np.full(num, 0.5), np.zeros(num)])).T\n",
    "\n",
    "\n",
    "x = np.reshape(original[:,0], (len(original),1))\n",
    "y = np.reshape(original[:,1], (len(original),1))\n",
    "z = np.reshape(original[:,2], (len(original),1))\n",
    "\n",
    "vx = np.reshape(original[:,3], (len(original),1))\n",
    "vy = np.reshape(original[:,4], (len(original),1))\n",
    "vz = np.reshape(original[:,5], (len(original),1))"
   ]
  },
  {
   "cell_type": "code",
   "execution_count": 3,
   "id": "b18d9db3",
   "metadata": {},
   "outputs": [],
   "source": [
    "theta = np.deg2rad(0.0)\n",
    "incl = np.deg2rad(45.0)\n",
    "dist0 =  1.\n",
    "\n",
    "direction = \"2sky\""
   ]
  },
  {
   "cell_type": "code",
   "execution_count": 4,
   "id": "e0f9b022",
   "metadata": {},
   "outputs": [],
   "source": [
    "newxyz = np.zeros((len(original), 3))\n",
    "\n",
    "newxyz[:,0], newxyz[:,1], newxyz[:,2] = xyz_transform(x, y, z, theta, incl, direction=direction)\n",
    "\n",
    "new_vxyz = np.zeros((len(original), 3))\n",
    "\n",
    "new_vxyz[:,0], new_vxyz[:,1], new_vxyz[:,2] = xyz_transform(vx, vy, vz, theta, incl, direction=direction)"
   ]
  },
  {
   "cell_type": "code",
   "execution_count": 5,
   "id": "131bf4e5",
   "metadata": {},
   "outputs": [
    {
     "data": {
      "text/plain": [
       "Text(0, 0.5, 'Y')"
      ]
     },
     "execution_count": 5,
     "metadata": {},
     "output_type": "execute_result"
    },
    {
     "data": {
      "text/plain": [
       "<Figure size 432x288 with 0 Axes>"
      ]
     },
     "metadata": {},
     "output_type": "display_data"
    },
    {
     "data": {
      "image/png": "[encoded data removed]",
      "text/plain": [
       "<Figure size 720x720 with 1 Axes>"
      ]
     },
     "metadata": {
      "needs_background": "light"
     },
     "output_type": "display_data"
    }
   ],
   "source": [
    "plt.clf()\n",
    "fig, ax = plt.subplots(figsize=(10,10))\n",
    "ax.scatter(original[:,0], original[:,1], s=50, color=\"royalblue\")\n",
    "q1 = ax.quiver(original[:,0], original[:,1], original[:,3], original[:,4], lw=2, \\\n",
    "                units=\"xy\", color=\"royalblue\", width=0.05)\n",
    "\n",
    "ax.scatter(newxyz[:,0], newxyz[:,1], s=50, color=\"tomato\")\n",
    "q2 = ax.quiver(newxyz[:,0], newxyz[:,1], new_vxyz[:,0], new_vxyz[:,1], lw=2, \\\n",
    "               units=\"xy\", color=\"tomato\", width=0.05)\n",
    "\n",
    "\n",
    "ax.set_xlim(-2, 2)\n",
    "ax.set_ylim(-2, 2)\n",
    "ax.set_xlabel('X')\n",
    "ax.set_ylabel('Y')"
   ]
  },
  {
   "cell_type": "code",
   "execution_count": 6,
   "id": "aaaa393d",
   "metadata": {},
   "outputs": [
    {
     "ename": "NameError",
     "evalue": "name 'matrix' is not defined",
     "output_type": "error",
     "traceback": [
      "\u001b[1;31m---------------------------------------------------------------------------\u001b[0m",
      "\u001b[1;31mNameError\u001b[0m                                 Traceback (most recent call last)",
      "\u001b[1;32m~\\AppData\\Local\\Temp/ipykernel_992/1149244544.py\u001b[0m in \u001b[0;36m<module>\u001b[1;34m\u001b[0m\n\u001b[0;32m     11\u001b[0m \u001b[1;33m\u001b[0m\u001b[0m\n\u001b[0;32m     12\u001b[0m \u001b[1;32mif\u001b[0m \u001b[1;33m(\u001b[0m\u001b[0mdirection\u001b[0m \u001b[1;33m==\u001b[0m \u001b[1;34m\"2gal\"\u001b[0m\u001b[1;33m)\u001b[0m\u001b[1;33m:\u001b[0m\u001b[1;33m\u001b[0m\u001b[1;33m\u001b[0m\u001b[0m\n\u001b[1;32m---> 13\u001b[1;33m     \u001b[0mnewposition2\u001b[0m \u001b[1;33m=\u001b[0m \u001b[0mnp\u001b[0m\u001b[1;33m.\u001b[0m\u001b[0mdot\u001b[0m\u001b[1;33m(\u001b[0m\u001b[0mnp\u001b[0m\u001b[1;33m.\u001b[0m\u001b[0mlinalg\u001b[0m\u001b[1;33m.\u001b[0m\u001b[0minv\u001b[0m\u001b[1;33m(\u001b[0m\u001b[0mmatrix\u001b[0m\u001b[1;33m)\u001b[0m\u001b[1;33m,\u001b[0m \u001b[0mposition2\u001b[0m\u001b[1;33m)\u001b[0m\u001b[1;33m\u001b[0m\u001b[1;33m\u001b[0m\u001b[0m\n\u001b[0m\u001b[0;32m     14\u001b[0m \u001b[1;33m\u001b[0m\u001b[0m\n\u001b[0;32m     15\u001b[0m \u001b[1;33m\u001b[0m\u001b[0m\n",
      "\u001b[1;31mNameError\u001b[0m: name 'matrix' is not defined"
     ]
    }
   ],
   "source": [
    "direction = \"2gal\"\n",
    "\n",
    "x2 = np.reshape(newxyz[:,0], (len(newxyz),1))\n",
    "y2 = np.reshape(newxyz[:,1], (len(newxyz),1))\n",
    "z2 = np.reshape(newxyz[:,2], (len(newxyz),1))\n",
    "\n",
    "position2 = np.zeros((len(x2), 3, 1))\n",
    "position2[:,0] = x2\n",
    "position2[:,1] = y2\n",
    "position2[:,2] = z2\n",
    "\n",
    "if (direction == \"2gal\"):\n",
    "    newposition2 = np.dot(np.linalg.inv(matrix), position2)\n",
    "    \n",
    "    \n",
    "origxyz = np.zeros((len(newxyz), 3))\n",
    "origxyz[:,0] = np.reshape(newposition2[0], (len(newposition2[0]),))\n",
    "origxyz[:,1] = np.reshape(newposition2[1], (len(newposition2[1]),))\n",
    "origxyz[:,2] = np.reshape(newposition2[2], (len(newposition2[2]),))"
   ]
  },
  {
   "cell_type": "code",
   "execution_count": null,
   "id": "fb84c3f8",
   "metadata": {},
   "outputs": [],
   "source": [
    "plt.clf()\n",
    "fig, ax = plt.subplots(figsize=(10,10))\n",
    "ax.scatter(origxyz[:,0], origxyz[:,1], s=50, color=\"royalblue\")\n",
    "ax.scatter(newxyz[:,0], newxyz[:,1], s=50, color=\"tomato\")\n",
    "ax.set_xlim(-2, 2)\n",
    "ax.set_ylim(-2, 2)\n",
    "ax.set_xlabel('X')\n",
    "ax.set_ylabel('Y')"
   ]
  },
  {
   "cell_type": "code",
   "execution_count": null,
   "id": "f6374a72",
   "metadata": {},
   "outputs": [],
   "source": []
  }
 ],
 "metadata": {
  "kernelspec": {
   "display_name": "Python 3 (ipykernel)",
   "language": "python",
   "name": "python3"
  },
  "language_info": {
   "codemirror_mode": {
    "name": "ipython",
    "version": 3
   },
   "file_extension": ".py",
   "mimetype": "text/x-python",
   "name": "python",
   "nbconvert_exporter": "python",
   "pygments_lexer": "ipython3",
   "version": "3.9.7"
  }
 },
 "nbformat": 4,
 "nbformat_minor": 5
}
